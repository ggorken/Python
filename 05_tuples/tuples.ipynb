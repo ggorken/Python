{
 "cells": [
  {
   "cell_type": "code",
   "execution_count": 4,
   "id": "85a9f11c",
   "metadata": {},
   "outputs": [
    {
     "name": "stdout",
     "output_type": "stream",
     "text": [
      "True\n",
      "1 2 Hello 3.4\n"
     ]
    }
   ],
   "source": [
    "# create a tuple\n",
    "\n",
    "my_tuple = (1, 2, \"Hello\", 3.4)\n",
    "\n",
    "hello = my_tuple[2]\n",
    "print (hello == \"Hello\")\n",
    "\n",
    "a, b, c, d = my_tuple\n",
    "print(a,b,c,d)\n",
    "\n"
   ]
  },
  {
   "cell_type": "code",
   "execution_count": 3,
   "id": "bc3b7b50",
   "metadata": {},
   "outputs": [
    {
     "name": "stdout",
     "output_type": "stream",
     "text": [
      "2\n"
     ]
    }
   ],
   "source": [
    "# nested tuple\n",
    "points = (\n",
    "    (1, 2, 3),\n",
    "    (4, 5, 6),\n",
    "    (7, 8, 9)\n",
    ")\n",
    "\n",
    "print(points[0][1])"
   ]
  }
 ],
 "metadata": {
  "kernelspec": {
   "display_name": "Python 3",
   "language": "python",
   "name": "python3"
  },
  "language_info": {
   "codemirror_mode": {
    "name": "ipython",
    "version": 3
   },
   "file_extension": ".py",
   "mimetype": "text/x-python",
   "name": "python",
   "nbconvert_exporter": "python",
   "pygments_lexer": "ipython3",
   "version": "3.12.1"
  }
 },
 "nbformat": 4,
 "nbformat_minor": 5
}
