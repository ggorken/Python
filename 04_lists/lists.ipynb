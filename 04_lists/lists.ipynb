{
 "cells": [
  {
   "cell_type": "code",
   "execution_count": null,
   "id": "f5838769",
   "metadata": {},
   "outputs": [],
   "source": [
    "multiples = [x for x in range(1, 51) if x % 3 == 0 and x % 5 == 0]\n",
    "print(multiples)"
   ]
  },
  {
   "cell_type": "code",
   "execution_count": null,
   "id": "d4aaec8c",
   "metadata": {},
   "outputs": [],
   "source": [
    "num = int(input(\"Enter a number: \"))\n",
    "squares = [i**2 for i in range(1, num + 1)]\n",
    "print(squares)"
   ]
  }
 ],
 "metadata": {
  "language_info": {
   "name": "python"
  }
 },
 "nbformat": 4,
 "nbformat_minor": 5
}
